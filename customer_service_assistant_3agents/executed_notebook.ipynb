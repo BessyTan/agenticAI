{
 "cells": [
  {
   "cell_type": "markdown",
   "id": "50340a59",
   "metadata": {
    "tags": [
     "papermill-error-cell-tag"
    ]
   },
   "source": [
    "<span style=\"color:red; font-family:Helvetica Neue, Helvetica, Arial, sans-serif; font-size:2em;\">An Exception was encountered at '<a href=\"#papermill-error-cell\">In [7]</a>'.</span>"
   ]
  },
  {
   "cell_type": "markdown",
   "id": "0cfc9f45-3dd8-45d8-a3c7-f762005c15d5",
   "metadata": {
    "papermill": {
     "duration": 0.003784,
     "end_time": "2025-08-11T00:12:07.904631",
     "exception": false,
     "start_time": "2025-08-11T00:12:07.900847",
     "status": "completed"
    },
    "tags": []
   },
   "source": [
    "The project is a customer service assistant that answers basic product-related queries using OpenAI + ChromaDB + RAG ( separated as a 3 agent RAG system )"
   ]
  },
  {
   "cell_type": "code",
   "execution_count": 1,
   "id": "6c32d7c0-2bb5-4d21-a4f4-4f2f8ce69460",
   "metadata": {
    "execution": {
     "iopub.execute_input": "2025-08-11T00:12:07.910905Z",
     "iopub.status.busy": "2025-08-11T00:12:07.910567Z",
     "iopub.status.idle": "2025-08-11T00:12:08.434688Z",
     "shell.execute_reply": "2025-08-11T00:12:08.434360Z"
    },
    "papermill": {
     "duration": 0.528187,
     "end_time": "2025-08-11T00:12:08.435625",
     "exception": false,
     "start_time": "2025-08-11T00:12:07.907438",
     "status": "completed"
    },
    "tags": []
   },
   "outputs": [],
   "source": [
    "import os\n",
    "import time\n",
    "from dotenv import load_dotenv\n",
    "import openai\n",
    "import uuid\n",
    "from docx import Document\n",
    "from openai import OpenAI\n",
    "import chromadb\n",
    "from chromadb.config import Settings"
   ]
  },
  {
   "cell_type": "code",
   "execution_count": 2,
   "id": "497c7fac-742c-4c51-a2c5-1e6856e35b41",
   "metadata": {
    "execution": {
     "iopub.execute_input": "2025-08-11T00:12:08.438027Z",
     "iopub.status.busy": "2025-08-11T00:12:08.437881Z",
     "iopub.status.idle": "2025-08-11T00:12:08.463419Z",
     "shell.execute_reply": "2025-08-11T00:12:08.463058Z"
    },
    "papermill": {
     "duration": 0.027572,
     "end_time": "2025-08-11T00:12:08.464269",
     "exception": false,
     "start_time": "2025-08-11T00:12:08.436697",
     "status": "completed"
    },
    "tags": []
   },
   "outputs": [],
   "source": [
    "# Load API Key\n",
    "load_dotenv()\n",
    "openai_api_key = os.getenv(\"OPENAI_API_KEY\")\n",
    "llm = OpenAI(api_key=openai_api_key)"
   ]
  },
  {
   "cell_type": "code",
   "execution_count": 3,
   "id": "ae1f4a0b-1830-4a0a-8d68-5e43c80c9716",
   "metadata": {
    "execution": {
     "iopub.execute_input": "2025-08-11T00:12:08.466489Z",
     "iopub.status.busy": "2025-08-11T00:12:08.466378Z",
     "iopub.status.idle": "2025-08-11T00:12:08.468471Z",
     "shell.execute_reply": "2025-08-11T00:12:08.468240Z"
    },
    "papermill": {
     "duration": 0.003963,
     "end_time": "2025-08-11T00:12:08.469208",
     "exception": false,
     "start_time": "2025-08-11T00:12:08.465245",
     "status": "completed"
    },
    "tags": []
   },
   "outputs": [],
   "source": [
    "# Step1: Load and parse word document\n",
    "# Agent1: Document Loader\n",
    "def load_docx_chunks(doc_path):\n",
    "    doc = Document(doc_path)\n",
    "    chunks = []\n",
    "    current_category = \"\"\n",
    "\n",
    "    for para in doc.paragraphs:\n",
    "        if para.style.name.startwith(\"Heading\"):\n",
    "            current_category = para.text.strip()\n",
    "        elif para.text.strip():\n",
    "            full_text = f\"{current_category}: {para.text.strip()}\" if current_category else para.text.strip()\n",
    "            chunks.append(full_text)\n",
    "    return chunks"
   ]
  },
  {
   "cell_type": "code",
   "execution_count": 4,
   "id": "449cb4a7-64fd-4320-b09d-e536678ea32a",
   "metadata": {
    "execution": {
     "iopub.execute_input": "2025-08-11T00:12:08.471302Z",
     "iopub.status.busy": "2025-08-11T00:12:08.471213Z",
     "iopub.status.idle": "2025-08-11T00:12:08.473244Z",
     "shell.execute_reply": "2025-08-11T00:12:08.473032Z"
    },
    "papermill": {
     "duration": 0.003753,
     "end_time": "2025-08-11T00:12:08.473832",
     "exception": false,
     "start_time": "2025-08-11T00:12:08.470079",
     "status": "completed"
    },
    "tags": []
   },
   "outputs": [],
   "source": [
    "# Step2: Create/Open ChromaDB and store embeddings\n",
    "def build_knowledge_base(chunks, collectioon_name=\"chat_memory6\"):\n",
    "    client = chromadb.PersistentClient(\n",
    "        path = \"/Users/bessy/codework_c/CSTU/agenticAI/customer_service_assistant_3agents\",\n",
    "        settings = Settings(anonymized_telemetry=False))\n",
    "    collection = client.get_or_create_collection(name=collectioon_name)\n",
    "\n",
    "    for chunk in chunks:\n",
    "        response = llm.embeddings.create(input=[chunk], model=\"text-embedding-ada-002\")\n",
    "        embedding = response.data[0].embedding\n",
    "\n",
    "        collection.add(documents=[chunk], embeddings=[embedding], ids=[str(uuid.uuid4())])\n",
    "\n",
    "    return collection"
   ]
  },
  {
   "cell_type": "code",
   "execution_count": 5,
   "id": "ce2f9701-69e1-4a70-a15a-4167fd8c4671",
   "metadata": {
    "execution": {
     "iopub.execute_input": "2025-08-11T00:12:08.475897Z",
     "iopub.status.busy": "2025-08-11T00:12:08.475763Z",
     "iopub.status.idle": "2025-08-11T00:12:08.477426Z",
     "shell.execute_reply": "2025-08-11T00:12:08.477220Z"
    },
    "papermill": {
     "duration": 0.003354,
     "end_time": "2025-08-11T00:12:08.478029",
     "exception": false,
     "start_time": "2025-08-11T00:12:08.474675",
     "status": "completed"
    },
    "tags": []
   },
   "outputs": [],
   "source": [
    "# Agent1: Query Embedding Agent\n",
    "def embed_query(query, llm):\n",
    "    response = llm.embeddings.create(input=[query], model=\"text-embedding-ada-002\")\n",
    "    return response.data[0].embedding"
   ]
  },
  {
   "cell_type": "code",
   "execution_count": 6,
   "id": "09474d4d-fc9b-4fbd-b096-bc30f9cd0c28",
   "metadata": {
    "execution": {
     "iopub.execute_input": "2025-08-11T00:12:08.480074Z",
     "iopub.status.busy": "2025-08-11T00:12:08.479993Z",
     "iopub.status.idle": "2025-08-11T00:12:08.481630Z",
     "shell.execute_reply": "2025-08-11T00:12:08.481423Z"
    },
    "papermill": {
     "duration": 0.003297,
     "end_time": "2025-08-11T00:12:08.482212",
     "exception": false,
     "start_time": "2025-08-11T00:12:08.478915",
     "status": "completed"
    },
    "tags": []
   },
   "outputs": [],
   "source": [
    "# Agent2: Vector Search Agent\n",
    "def retrieve_documents(embedding, collection, k=3):\n",
    "    results = collection.query(query_embeddings=[embedding], n_results=k)\n",
    "    docs = results.get(\"documents\", [[]])[0]\n",
    "    return \"\\n---\\n\".join(docs) if docs else \"\""
   ]
  },
  {
   "cell_type": "markdown",
   "id": "08c3c7f5",
   "metadata": {
    "tags": [
     "papermill-error-cell-tag"
    ]
   },
   "source": [
    "<span id=\"papermill-error-cell\" style=\"color:red; font-family:Helvetica Neue, Helvetica, Arial, sans-serif; font-size:2em;\">Execution using papermill encountered an exception here and stopped:</span>"
   ]
  },
  {
   "cell_type": "code",
   "execution_count": 7,
   "id": "9770e60f-2434-44ef-9e6e-de931382ffe8",
   "metadata": {
    "execution": {
     "iopub.execute_input": "2025-08-11T00:12:08.484238Z",
     "iopub.status.busy": "2025-08-11T00:12:08.484137Z",
     "iopub.status.idle": "2025-08-11T00:12:08.486467Z",
     "shell.execute_reply": "2025-08-11T00:12:08.486087Z"
    },
    "papermill": {
     "duration": 0.003898,
     "end_time": "2025-08-11T00:12:08.486927",
     "exception": true,
     "start_time": "2025-08-11T00:12:08.483029",
     "status": "failed"
    },
    "tags": []
   },
   "outputs": [
    {
     "ename": "SyntaxError",
     "evalue": "invalid syntax. Perhaps you forgot a comma? (410120794.py, line 4)",
     "output_type": "error",
     "traceback": [
      "  \u001b[36mCell\u001b[39m\u001b[36m \u001b[39m\u001b[32mIn[7]\u001b[39m\u001b[32m, line 4\u001b[39m\n\u001b[31m    \u001b[39m\u001b[31m{\"role\": \"system\", \"content\": \"You are an expert assistant. Use the context below to answer questions clearly and politely.\"}\u001b[39m\n    ^\n\u001b[31mSyntaxError\u001b[39m\u001b[31m:\u001b[39m invalid syntax. Perhaps you forgot a comma?\n"
     ]
    }
   ],
   "source": [
    "# Agent3: Responder Agent\n",
    "def generate_response(context, user_input, llm):\n",
    "    messages = [\n",
    "        {\"role\": \"system\", \"content\": \"You are an expert assistant. Use the context below to answer questions clearly and politely.\"}\n",
    "        {\"role\": \"user\", \"content\": f\"Context:\\n{context}\"},\n",
    "        {\"role\": \"user\", \"content\": user_input}\n",
    "    ]\n",
    "    response = llm.chat.completions.create(\n",
    "        model=\"gpt-3.5-turbo\",\n",
    "        messages=messages,\n",
    "        temperature=0.3\n",
    "    )\n",
    "    return response.choices[0].message.content.strip()\n"
   ]
  },
  {
   "cell_type": "code",
   "execution_count": null,
   "id": "633d6f6f-8a96-471a-a347-b68b1e451249",
   "metadata": {
    "papermill": {
     "duration": null,
     "end_time": null,
     "exception": null,
     "start_time": null,
     "status": "pending"
    },
    "tags": []
   },
   "outputs": [],
   "source": [
    "# Controller Function\n",
    "def run_three_agent_rag_system(doc_path):\n",
    "    print(\"Loading knowledge base from document...\")\n",
    "    chunks = load_docx_chunks(doc_path)\n",
    "    collection = build_knowledge_base(chunks)\n",
    "    print(\"Customer service assistant (Three-Agent RAG system) ready! Ask product-related questions.\")\n",
    "\n",
    "    while True:\n",
    "        user_input = input(\"You: \").strip()\n",
    "        if user_input.lower() in [\"exit\", \"quit\", \"bye\"]:\n",
    "            print(Customer assistant: Thank you! Have a great day!\")\n",
    "            break\n",
    "\n",
    "        # Step 1: Generate embedding for query\n",
    "        embedding = embed_query(user_input)\n",
    "\n",
    "        # Step 2: Search for relevant documents\n",
    "        context = retrieve_documents(embedding, collection)\n",
    "\n",
    "        # Step 3: Generate a response using context\n",
    "        reponse = generate_response(context, user_input)\n",
    "        print(f\"Customer assistant: {response}\")\n",
    "        "
   ]
  },
  {
   "cell_type": "code",
   "execution_count": null,
   "id": "adea01c6-f70a-4b12-97c1-38fd008730e7",
   "metadata": {
    "papermill": {
     "duration": null,
     "end_time": null,
     "exception": null,
     "start_time": null,
     "status": "pending"
    },
    "tags": []
   },
   "outputs": [],
   "source": [
    "doc_path = \"/Users/bessy/codework_c/CSTU/agenticAI/customer_service_assistant_3agents/apple_product_prices_2025.docx\""
   ]
  },
  {
   "cell_type": "code",
   "execution_count": null,
   "id": "59d3cbe7-0b48-4711-8408-72f2fe2ae792",
   "metadata": {
    "papermill": {
     "duration": null,
     "end_time": null,
     "exception": null,
     "start_time": null,
     "status": "pending"
    },
    "tags": []
   },
   "outputs": [],
   "source": [
    "run_three_agent_rag_system(doc_path)"
   ]
  }
 ],
 "metadata": {
  "kernelspec": {
   "display_name": "Python 3 (ipykernel)",
   "language": "python",
   "name": "python3"
  },
  "language_info": {
   "codemirror_mode": {
    "name": "ipython",
    "version": 3
   },
   "file_extension": ".py",
   "mimetype": "text/x-python",
   "name": "python",
   "nbconvert_exporter": "python",
   "pygments_lexer": "ipython3",
   "version": "3.12.3"
  },
  "papermill": {
   "default_parameters": {},
   "duration": 1.618463,
   "end_time": "2025-08-11T00:12:08.703519",
   "environment_variables": {},
   "exception": true,
   "input_path": "tan_project2_customerServiceAssistant_3agents_rag.ipynb",
   "output_path": "executed_notebook.ipynb",
   "parameters": {},
   "start_time": "2025-08-11T00:12:07.085056",
   "version": "2.6.0"
  }
 },
 "nbformat": 4,
 "nbformat_minor": 5
}