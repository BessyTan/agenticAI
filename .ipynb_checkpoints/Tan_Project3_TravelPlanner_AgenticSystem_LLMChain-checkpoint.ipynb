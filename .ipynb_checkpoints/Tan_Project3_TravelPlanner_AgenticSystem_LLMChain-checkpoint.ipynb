{
  "cells": [
    {
      "cell_type": "markdown",
      "id": "0509b482-75b3-4a1d-995e-09aaaab88752",
      "metadata": {
        "id": "0509b482-75b3-4a1d-995e-09aaaab88752"
      },
      "source": [
        "## Travel Planning Agentic System using LLMchain"
      ]
    },
    {
      "cell_type": "markdown",
      "id": "e68979ef-3f1c-4f12-a42e-88f906affb59",
      "metadata": {
        "id": "e68979ef-3f1c-4f12-a42e-88f906affb59"
      },
      "source": [
        "### This project is a simulated agentic workflow using LLMChain:\n",
        "#### LLMChain = deterministic task executor (1 prompt -> 1 response)\n",
        "#### Use SequentialChain to coordinate the \"agents\"\n",
        "#### Each agent = 1 chain with its own prompt"
      ]
    },
    {
      "cell_type": "markdown",
      "id": "1fe0de6c-840e-4054-a0a3-ba4e6a4d8b8d",
      "metadata": {
        "id": "1fe0de6c-840e-4054-a0a3-ba4e6a4d8b8d"
      },
      "source": [
        "For agents like \"Itinerary Planner\", where no tools are needed and you just want a clear response,\n",
        "we do not require to use agents at all.\n",
        "We can achieve the same thing with LLMChain. In this the agents were not explicitly defined as standalone objects.\n",
        "Instead, LLMChain instances are used to perform the roles of agents.\n",
        "\n",
        "Langchain has two levels of abstraction of AI_driven workflows:\n",
        "1. LLMChain (these are not full \"agents\" - they are deterministic chains of prompt + LLM).\n",
        "Suitable for sequential tasks. Not decision-making, tool selection, or memory\n",
        "2. LangChain Agents (using this, we will define true agents. initialize_agents, AgentExecutor+tools, Tool use + memory + reasoning)"
      ]
    },
    {
      "cell_type": "markdown",
      "id": "4bbae12f-9724-4d83-a023-35380597fee0",
      "metadata": {
        "id": "4bbae12f-9724-4d83-a023-35380597fee0"
      },
      "source": [
        "1.Setup & Environment"
      ]
    },
    {
      "cell_type": "code",
      "execution_count": null,
      "id": "16d04f0f-eaa1-44c9-ba76-7bed3d2d00eb",
      "metadata": {
        "id": "16d04f0f-eaa1-44c9-ba76-7bed3d2d00eb"
      },
      "outputs": [],
      "source": [
        "import os\n",
        "from dotenv import load_dotenv\n",
        "from langchain.chat_models import ChatOpenAI\n",
        "from langchain.prompts import PromptTemplate\n",
        "from langchain.chains import LLMChain, SequentialChain"
      ]
    },
    {
      "cell_type": "code",
      "execution_count": null,
      "id": "661a7b49-e47d-4533-92cf-b43424949e7e",
      "metadata": {
        "id": "661a7b49-e47d-4533-92cf-b43424949e7e"
      },
      "outputs": [],
      "source": [
        "# Load API Keys\n",
        "load_dotenv()\n",
        "openai_api_key = os.getenv(\"OPENAI_API_KEY\")\n",
        "\n",
        "if not openain_api_key:\n",
        "    raise ValueError(\"Missing OpenAI or Tavily API keys\")"
      ]
    },
    {
      "cell_type": "code",
      "execution_count": null,
      "id": "3aaf54f4-428f-44e6-88e8-6a59ba905333",
      "metadata": {
        "id": "3aaf54f4-428f-44e6-88e8-6a59ba905333"
      },
      "outputs": [],
      "source": [
        "# Initialize LLM\n",
        "llm = ChatOpenAI(model=\"gpt-4o\", temperature=0.7, openai_api_key=openai_api_key)"
      ]
    },
    {
      "cell_type": "markdown",
      "id": "47791ae0-c3a2-4d87-830e-1263110074a0",
      "metadata": {
        "id": "47791ae0-c3a2-4d87-830e-1263110074a0"
      },
      "source": [
        "2. Prompt Templates for each LLMChain Role"
      ]
    },
    {
      "cell_type": "code",
      "source": [
        "# Destination Researcher\n",
        "destination_prompt = PromptTemplate.from_template(\"\"\"\n",
        "Research comprehensive travel information about {destination}:\n",
        "Include best seasons to visit, safety, etiquette, costs, language, transport options, etc.\n",
        "Travel Dates: {travel_dates}, Budget: {budget}.\n",
        "\"\"\")\n",
        "\n",
        "# Attractions Specialist\n",
        "attractions_prompt = PromptTemplate.from_template(\"\"\"\n",
        "List top attractions and experiences in {destination} for travelers who enjoy {preferences}.\n",
        "Budget: {budget},\n",
        "Trip Duration: {duration_days} days.\n",
        "\"\"\")\n",
        "\n",
        "# Itinerary Planner\n",
        "itinerary_prompt = PromptTemplate.from_template(\"\"\"\n",
        "Created a detailed {duration_days}-day travel itinerary for {destination} starting {travel_dates}.\n",
        "Make sure the itinerary reflects preferences like: {preferences}, and fits within a {budget} Budget.\n",
        "\"\"\")\n",
        "\n",
        "# Local Guide\n",
        "guide_prompt = PromptTemplate.from_template(\"\"\"\n",
        "Provide local tips, cultural insights, and safety advice for visiting {destination}.\n",
        "Tailor to interests: {preferences}.\n",
        "Budget level: {budget}.\n",
        "\"\"\")\n"
      ],
      "metadata": {
        "id": "rlXLYc48iWGu"
      },
      "id": "rlXLYc48iWGu",
      "execution_count": null,
      "outputs": []
    },
    {
      "cell_type": "markdown",
      "id": "f4af9c33-472e-4adf-a965-fd186a9c69c8",
      "metadata": {
        "id": "f4af9c33-472e-4adf-a965-fd186a9c69c8"
      },
      "source": [
        "3. Define LLMChain for each Role"
      ]
    },
    {
      "cell_type": "code",
      "execution_count": null,
      "id": "4c2f9637-deb4-4cbc-a5ac-8b6f472153b1",
      "metadata": {
        "id": "4c2f9637-deb4-4cbc-a5ac-8b6f472153b1"
      },
      "outputs": [],
      "source": [
        "destination_chain = LLMChain(llm=llm, prompt=destination_prompt, output_key=\"destination_report\")\n",
        "attractions_chain = LLMChain(llm=llm, prompt=attractions_prompt, output_key=\"attractions\")\n",
        "itinerary_chain = LLMChain(llm=llm, prompt=itinerary_prompt, output_key=\"itinerary\")\n",
        "guide_chain = LLMChain(llm=llm, prompt=guide_prompt, output_key=\"guide\")"
      ]
    },
    {
      "cell_type": "markdown",
      "id": "865b9d8f-f845-4f4b-b86d-fa1465574a66",
      "metadata": {
        "id": "865b9d8f-f845-4f4b-b86d-fa1465574a66"
      },
      "source": [
        "4. Take Input from User"
      ]
    },
    {
      "cell_type": "code",
      "execution_count": null,
      "id": "659e43f8-8f73-499a-a2d3-0a405d241055",
      "metadata": {
        "id": "659e43f8-8f73-499a-a2d3-0a405d241055"
      },
      "outputs": [],
      "source": [
        "destination = Input(\"Destination: \")\n",
        "travel_dates = input(\"Travel Dates (default June 1, 2023): \") or \"June 1, 2023\"\n",
        "duration_days = int(input(\"Duration (default 3): \") or \"3\")\n",
        "preferences = input(Preferences (default: Cultural & Museums, Food & Culinary): \") or \"Cultural & Museums, Food & Culinary\"\n",
        "budget = input(\"Budget (default: moderate): \") or \"moderate\"\n",
        "\n",
        "input_variables = {\n",
        "    \"destination\": destination,\n",
        "    \"travel_dates\": travel_dates,\n",
        "    \"duration_days\": duration_days,\n",
        "    \"preferences\": preferences,\n",
        "    \"budget\": budget\n",
        "}"
      ]
    },
    {
      "cell_type": "markdown",
      "id": "2aec8b66-f14a-4aa0-a2d3-9bb6d0ffabaf",
      "metadata": {
        "id": "2aec8b66-f14a-4aa0-a2d3-9bb6d0ffabaf"
      },
      "source": [
        "5. Use SequentialChain to Run All Chains in Order"
      ]
    },
    {
      "cell_type": "code",
      "execution_count": null,
      "id": "d584157a-f171-4e5e-8cfe-0883295ebf7d",
      "metadata": {
        "id": "d584157a-f171-4e5e-8cfe-0883295ebf7d"
      },
      "outputs": [],
      "source": [
        "travel_chain = SequentialChain(\n",
        "    chains = [destination_chain, attractions_chain, itinerary_chain, guide_chain],\n",
        "    input_variables=[\"destination\", \"travel_dates\", \"duration_days\", \"preferences\", \"budget\"],\n",
        "    output_variables=[\"destination_report\", \"attractions\", \"itinerary\", \"guide\"],\n",
        "    verbose=True\n",
        ")\n",
        "\n",
        "# Run the LLMChain-based agentic system\n",
        "results = travel_chain.run(input_variables)"
      ]
    },
    {
      "cell_type": "markdown",
      "id": "974c3053-c4d6-4105-923a-39d7942400e6",
      "metadata": {
        "id": "974c3053-c4d6-4105-923a-39d7942400e6"
      },
      "source": [
        "6. Print the Final Travel Plan Output"
      ]
    },
    {
      "cell_type": "code",
      "execution_count": null,
      "id": "23359874-fb2a-4e98-aab1-ed08c6886d93",
      "metadata": {
        "id": "23359874-fb2a-4e98-aab1-ed08c6886d93"
      },
      "outputs": [],
      "source": [
        "print(\"\\n--- Travel Plan ---\")\n",
        "print(\"Destination Overview:\\n\", results[\"destination_report\"])\n",
        "print(\"\\n Attractions:\\n\", results[\"attractions\"])\n",
        "print(\"\\n Itinerary:\\n\", results[\"itinerary\"])\n",
        "print(\"\\n Local Guide:\\n\", results[\"guide\"])"
      ]
    },
    {
      "cell_type": "markdown",
      "id": "782ba110-f90c-491d-80e8-7a4c16e8d280",
      "metadata": {
        "id": "782ba110-f90c-491d-80e8-7a4c16e8d280"
      },
      "source": [
        "Supervisor with tools Architecture - A supervisor agent uses a tool-calling agent to decide which tool to use."
      ]
    }
  ],
  "metadata": {
    "kernelspec": {
      "display_name": "Python 3 (ipykernel)",
      "language": "python",
      "name": "python3"
    },
    "language_info": {
      "codemirror_mode": {
        "name": "ipython",
        "version": 3
      },
      "file_extension": ".py",
      "mimetype": "text/x-python",
      "name": "python",
      "nbconvert_exporter": "python",
      "pygments_lexer": "ipython3",
      "version": "3.13.5"
    },
    "colab": {
      "provenance": []
    }
  },
  "nbformat": 4,
  "nbformat_minor": 5
}