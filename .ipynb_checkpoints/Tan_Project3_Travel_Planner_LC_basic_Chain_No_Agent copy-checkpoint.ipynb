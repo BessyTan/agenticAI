{
 "cells": [
  {
   "cell_type": "code",
   "execution_count": null,
   "id": "4149d534-004a-4a7d-b01a-adc5c573afd6",
   "metadata": {},
   "outputs": [],
   "source": [
    "For agents like \"Itinerary Planner\", where no tools are needed and you just want a clear response, \n",
    "we do not require to use agents at all.\n",
    "We can achieve the same thing with LLMChain. In this the agents were not explicitly defined as standalone objects. \n",
    "Instead, LLMChain instances are used to perform the roles of agents.\n",
    "\n",
    "Langchain has two levels of abstraction of AI_driven workflows:\n",
    "1. LLMChain (these are not full \"agents\" - they are deterministic chains of prompt + LLM). \n",
    "Suitable for sequential tasks. Not decision-making, tool selection, or memory\n",
    "2. LangChain Agents (using this, we will define true agents. initialize_agents, AgentExecutor+tools, Tool use + memory + reasoning)"
   ]
  },
  {
   "cell_type": "markdown",
   "id": "4bbae12f-9724-4d83-a023-35380597fee0",
   "metadata": {},
   "source": [
    "1.Setup & Environment"
   ]
  },
  {
   "cell_type": "code",
   "execution_count": null,
   "id": "16d04f0f-eaa1-44c9-ba76-7bed3d2d00eb",
   "metadata": {},
   "outputs": [],
   "source": [
    "import os\n",
    "from dotenv import load_dotenv\n",
    "from langchain.chat_models import ChatOpenAI\n",
    "from langchain.prompts import PromptTemplate\n",
    "from langchain.chains import LLMChain, SequentialChain\n",
    "from Langchain.tools import tool\n",
    "from langhchain_community.tools.tavily_search import TavilySearchResults"
   ]
  },
  {
   "cell_type": "code",
   "execution_count": null,
   "id": "661a7b49-e47d-4533-92cf-b43424949e7e",
   "metadata": {},
   "outputs": [],
   "source": [
    "load_dotenv()\n",
    "openai_api_key = os.getenv(\"OPENAI_API_KEY\")\n",
    "tavily_api_key = os.getenv(\"TAVILY_API_KEY\")\n",
    "\n",
    "if not openain_api_key or not tavily_api_key:\n",
    "    raise ValueError(\"Missing OpenAI or Tavily API keys\")"
   ]
  },
  {
   "cell_type": "code",
   "execution_count": null,
   "id": "3aaf54f4-428f-44e6-88e8-6a59ba905333",
   "metadata": {},
   "outputs": [],
   "source": [
    "llm = ChatOpenAI(model=\"gpt-4o\", temperature=0.7, openai_api_key=openai_api_key)"
   ]
  },
  {
   "cell_type": "markdown",
   "id": "1f72ccca-fed8-450c-8f94-b7e08649390c",
   "metadata": {},
   "source": [
    "2. Travily search tool"
   ]
  },
  {
   "cell_type": "code",
   "execution_count": null,
   "id": "914bd7cb-b174-404a-b41d-e667a25e7c05",
   "metadata": {},
   "outputs": [],
   "source": [
    "@tool\n",
    "def search_internet(query: str) -> str:\n",
    "    \"\"\"Search the internet and return formatted results.\"\"\"\n",
    "    search = TavilySearchResults(api_key=tavily_api_key, max_results=5)\n",
    "    results = search.invoke(query)\n",
    "    return \"\\n\\n\".join(\n",
    "        f\"Source: {r.get('url', 'No URL')}\\n\"\n",
    "        f\"Title: {r.get('title', 'No Title')}\\n\"\n",
    "        f\"Content: {r.get('content', 'No Content')}\"\n",
    "        for r in results\n",
    "    )"
   ]
  },
  {
   "cell_type": "markdown",
   "id": "47791ae0-c3a2-4d87-830e-1263110074a0",
   "metadata": {},
   "source": [
    "3. Prompt Template for each role"
   ]
  },
  {
   "cell_type": "markdown",
   "id": "a1126c07-de79-4067-a42f-c11a63f9db12",
   "metadata": {},
   "source": [
    "destination_prompt = PromptTemplate.from_template(\"\"\"\n",
    "Research comprehensive information about {destination}:\n",
    "- Best seasons, safety, etiquette, travel options, costs, language, etc.\n",
    "Travel Dates: {travel_dates}, Budget: {budget}.\n",
    "\"\"\")\n",
    "\n",
    "attractions_prompt = PromptTemplate.from_template(\"\"\"\n",
    "Identify the top attractions in {destination} for {preferences} travelers on a {budget} budget,\n",
    "Trip Duration: {duration_days} days.\n",
    "\"\"\")\n",
    "\n",
    "itinerary_prompt = PromptTemplate.from_template(\"\"\"\n",
    "Created a detailed {duration_days}-day itinerary for {destination} starting {travel_dates}.\n",
    "Preferences: {preferences}, Budget: {budget}.\n",
    "\"\"\")\n",
    "\n",
    "guide_prompt = PromptTemplate.from_template(\"\"\"\n",
    "Provide insider tips and local advice for {destination} travel.\n",
    "Preferences: {preferences}, Budget: {budget}.\n",
    "\"\"\")\n"
   ]
  },
  {
   "cell_type": "markdown",
   "id": "f4af9c33-472e-4adf-a965-fd186a9c69c8",
   "metadata": {},
   "source": [
    "4. Chains for each Agent"
   ]
  },
  {
   "cell_type": "code",
   "execution_count": null,
   "id": "4c2f9637-deb4-4cbc-a5ac-8b6f472153b1",
   "metadata": {},
   "outputs": [],
   "source": [
    "destination_chain = LLMChain(llm=llm, prompt=destination_prompt, output_key=\"destination_report\")\n",
    "attractions_chain = LLMChain(llm=llm, prompt=attractions_prompt, output_key=\"attractions\")\n",
    "itinerary_chain = LLMChain(llm=llm, prompt=itinerary_prompt, output_key=\"itinerary\")\n",
    "guide_chain = LLMChain(llm=llm, prompt=guide_prompt, output_key=\"guide\")"
   ]
  },
  {
   "cell_type": "markdown",
   "id": "865b9d8f-f845-4f4b-b86d-fa1465574a66",
   "metadata": {},
   "source": [
    "5. Input from User"
   ]
  },
  {
   "cell_type": "code",
   "execution_count": null,
   "id": "659e43f8-8f73-499a-a2d3-0a405d241055",
   "metadata": {},
   "outputs": [],
   "source": [
    "destination = Input(\"Destination: \")\n",
    "travel_dates = input(\"Travel Dates (default June 1, 2023): \") or \"June 1, 2023\"\n",
    "duration_days = int(input(\"Duration (default 3): \") or \"3\")\n",
    "preferences = input(Preferences (default: Cultural & Museums, Food & Culinary): \") or \"Cultural & Museums, Food & Culinary\"\n",
    "budget = input(\"Budget (default: moderate): \") or \"moderate\"\n",
    "\n",
    "input_variables = {\n",
    "    \"destination\": destination,\n",
    "    \"travel_dates\": travel_dates,\n",
    "    \"duration_days\": duration_days,\n",
    "    \"preferences\": preferences,\n",
    "    \"budget\": budget\n",
    "}"
   ]
  },
  {
   "cell_type": "markdown",
   "id": "2aec8b66-f14a-4aa0-a2d3-9bb6d0ffabaf",
   "metadata": {},
   "source": [
    "6. Sequential Execution with \"SequentialChain\""
   ]
  },
  {
   "cell_type": "code",
   "execution_count": null,
   "id": "d584157a-f171-4e5e-8cfe-0883295ebf7d",
   "metadata": {},
   "outputs": [],
   "source": [
    "travel_chain = SequentialChain(\n",
    "    chains = [destination_chain, attractions_chain, itinerary_chain, guide_chain],\n",
    "    input_variables=[\"destination\", \"travel_dates\", \"duration_days\", \"preferences\", \"budget\"],\n",
    "    output_variables=[\"destination_report\", \"attractions\", \"itinerary\", \"guide\"],\n",
    "    verbose=True\n",
    ")\n",
    "\n",
    "results = travel_chain.run(input_variables)\n",
    "\n",
    "print(\"\\n--- Travel Plan ---\")\n",
    "print(\"Destination Overview:\\n\", results[\"destination_report\"])\n",
    "print(\"\\n Attractions:\\n\", results[\"attractions\"])\n",
    "print(\"\\n Itinerary:\\n\", results[\"itinerary\"])\n",
    "print(\"\\n Local Guide:\\n\", results[\"guide\"])"
   ]
  },
  {
   "cell_type": "markdown",
   "id": "782ba110-f90c-491d-80e8-7a4c16e8d280",
   "metadata": {},
   "source": [
    "Supervisor with tools Architecture - A supervisor agent uses a tool-calling agent to decide which tool to use."
   ]
  },
  {
   "cell_type": "code",
   "execution_count": null,
   "id": "d76f7638-3981-47ed-9b00-f7c419c8d218",
   "metadata": {},
   "outputs": [],
   "source": [
    "llm = ChatOPENAI(\n",
    "    model=\"gpt-4o\",\n",
    "    temperature=0.7,\n",
    "    openai_api_key=openai_api_key\n",
    ")"
   ]
  },
  {
   "cell_type": "markdown",
   "id": "7bc83d72-0bc6-4d29-a582-8c59fad2e27b",
   "metadata": {},
   "source": [
    "Define web search tool using Tavily"
   ]
  },
  {
   "cell_type": "code",
   "execution_count": null,
   "id": "9c2c9de4-048b-437c-a2c0-d7f0d5b3a46b",
   "metadata": {},
   "outputs": [],
   "source": [
    "search_tool = TavilySearchResults(api_key=tavily_api_key, max_results=5)"
   ]
  },
  {
   "cell_type": "code",
   "execution_count": null,
   "id": "e05d2933-1f5a-43e3-975c-bb84076ac229",
   "metadata": {},
   "outputs": [],
   "source": [
    "destination_researcher = Agent(\n",
    "    role=\"Destination Researcher\",\n",
    "    goal=\"Gather essential information about the destination, travel safety, seasons, and culinary.\"\n",
    "    backstory=\"An expert travel researcher with deep knowledge of global destination and up\"\n",
    "    tools=[search_web],\n",
    "    llm=llm,\n",
    "    memory=True,\n",
    "    verbose=True\n",
    ")"
   ]
  },
  {
   "cell_type": "code",
   "execution_count": null,
   "id": "ca6d5366-1874-46ed-a171-ff116d981383",
   "metadata": {},
   "outputs": [],
   "source": [
    "Task(\n",
    "    description=f\"\"\"\n",
    "            Research {destination} for a traveler going on {travel_dates} for {duration_day}\n",
    "            Include climate, travel safety, currency, transport options, and cultural etiquette \n",
    "            \"\"\",\n",
    "    agent=destination_researcher,\n",
    "    expected_output=\"Destination research report with key facts and insights.\"\n",
    "),"
   ]
  },
  {
   "cell_type": "code",
   "execution_count": null,
   "id": "f72ac838-415f-4b6f-9aec-a38d81f0ee12",
   "metadata": {},
   "outputs": [],
   "source": [
    "travel_crew = Crew(\n",
    "    agents=[destination_researcher, attractions_specialist, itinerary_planner, local_guide],\n",
    "    tasks=tasks,\n",
    "    verbose=True,\n",
    "    manager_agent=manager, # required only for the hierarchical process\n",
    "    process=Process.hierarchical  # dynamic agent coordination\n",
    ")"
   ]
  },
  {
   "cell_type": "code",
   "execution_count": null,
   "id": "7763894b-9efc-4fd1-a122-5ad2f6ae6d75",
   "metadata": {},
   "outputs": [],
   "source": [
    "results = travel_crew.kickoff()"
   ]
  }
 ],
 "metadata": {
  "kernelspec": {
   "display_name": "Python 3 (ipykernel)",
   "language": "python",
   "name": "python3"
  },
  "language_info": {
   "codemirror_mode": {
    "name": "ipython",
    "version": 3
   },
   "file_extension": ".py",
   "mimetype": "text/x-python",
   "name": "python",
   "nbconvert_exporter": "python",
   "pygments_lexer": "ipython3",
   "version": "3.13.5"
  }
 },
 "nbformat": 4,
 "nbformat_minor": 5
}
