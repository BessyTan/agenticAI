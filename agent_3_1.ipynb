{
 "cells": [
  {
   "cell_type": "code",
   "execution_count": null,
   "id": "fad7223c-6e60-42e9-84b6-2568836b92a7",
   "metadata": {},
   "outputs": [],
   "source": [
    "import time"
   ]
  },
  {
   "cell_type": "code",
   "execution_count": null,
   "id": "daad3dc9-3aa9-45a3-b803-694242d5498b",
   "metadata": {},
   "outputs": [],
   "source": [
    "# capture user input\n",
    "def capture:\n",
    "    return input(\"User: \").strip().lower()"
   ]
  },
  {
   "cell_type": "code",
   "execution_count": null,
   "id": "d13a010a-f07e-496a-bef3-71ba208ea3ea",
   "metadata": {},
   "outputs": [],
   "source": [
    "def plan(ask):\n",
    "    if ask in faq:\n",
    "        return \"respond\"\n",
    "    else:\n",
    "        return \"clarify\""
   ]
  },
  {
   "cell_type": "code",
   "execution_count": null,
   "id": "2d3369c8-834f-46db-b401-c8158f6cab73",
   "metadata": {},
   "outputs": [],
   "source": []
  }
 ],
 "metadata": {
  "kernelspec": {
   "display_name": "Python 3 (ipykernel)",
   "language": "python",
   "name": "python3"
  },
  "language_info": {
   "codemirror_mode": {
    "name": "ipython",
    "version": 3
   },
   "file_extension": ".py",
   "mimetype": "text/x-python",
   "name": "python",
   "nbconvert_exporter": "python",
   "pygments_lexer": "ipython3",
   "version": "3.13.5"
  }
 },
 "nbformat": 4,
 "nbformat_minor": 5
}
