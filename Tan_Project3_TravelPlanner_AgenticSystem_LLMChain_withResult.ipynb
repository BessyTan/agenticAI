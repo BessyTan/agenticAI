{
  "cells": [
    {
      "cell_type": "markdown",
      "id": "0509b482-75b3-4a1d-995e-09aaaab88752",
      "metadata": {
        "id": "0509b482-75b3-4a1d-995e-09aaaab88752"
      },
      "source": [
        "## Travel Planning Agentic System using LLMchain"
      ]
    },
    {
      "cell_type": "markdown",
      "id": "e68979ef-3f1c-4f12-a42e-88f906affb59",
      "metadata": {
        "id": "e68979ef-3f1c-4f12-a42e-88f906affb59"
      },
      "source": [
        "### This project is a simulated agentic workflow using LLMChain:\n",
        "#### LLMChain = deterministic task executor (1 prompt -> 1 response)\n",
        "#### Use SequentialChain to coordinate the \"agents\"\n",
        "#### Each agent = 1 chain with its own prompt"
      ]
    },
    {
      "cell_type": "markdown",
      "id": "1fe0de6c-840e-4054-a0a3-ba4e6a4d8b8d",
      "metadata": {
        "id": "1fe0de6c-840e-4054-a0a3-ba4e6a4d8b8d"
      },
      "source": [
        "For agents like \"Itinerary Planner\", where no tools are needed and you just want a clear response,\n",
        "we do not require to use agents at all.\n",
        "We can achieve the same thing with LLMChain. In this the agents were not explicitly defined as standalone objects.\n",
        "Instead, LLMChain instances are used to perform the roles of agents.\n",
        "\n",
        "Langchain has two levels of abstraction of AI_driven workflows:\n",
        "1. LLMChain (these are not full \"agents\" - they are deterministic chains of prompt + LLM).\n",
        "Suitable for sequential tasks. Not decision-making, tool selection, or memory\n",
        "2. LangChain Agents (using this, we will define true agents. initialize_agents, AgentExecutor+tools, Tool use + memory + reasoning)"
      ]
    },
    {
      "cell_type": "markdown",
      "id": "4bbae12f-9724-4d83-a023-35380597fee0",
      "metadata": {
        "id": "4bbae12f-9724-4d83-a023-35380597fee0"
      },
      "source": [
        "1.Setup & Environment"
      ]
    },
    {
      "cell_type": "code",
      "source": [
        "!pip install langchain langchain_openai langchain_community python-dotenv"
      ],
      "metadata": {
        "colab": {
          "base_uri": "https://localhost:8080/"
        },
        "id": "qWrhDdV1A6Wt",
        "outputId": "daa1d4b3-dc8b-4b91-a93a-584d8e0bed06"
      },
      "id": "qWrhDdV1A6Wt",
      "execution_count": 1,
      "outputs": [
        {
          "output_type": "stream",
          "name": "stdout",
          "text": [
            "Requirement already satisfied: langchain in /usr/local/lib/python3.12/dist-packages (0.3.27)\n",
            "Collecting langchain_openai\n",
            "  Downloading langchain_openai-0.3.32-py3-none-any.whl.metadata (2.4 kB)\n",
            "Collecting langchain_community\n",
            "  Downloading langchain_community-0.3.27-py3-none-any.whl.metadata (2.9 kB)\n",
            "Requirement already satisfied: python-dotenv in /usr/local/lib/python3.12/dist-packages (1.1.1)\n",
            "Requirement already satisfied: langchain-core<1.0.0,>=0.3.72 in /usr/local/lib/python3.12/dist-packages (from langchain) (0.3.74)\n",
            "Requirement already satisfied: langchain-text-splitters<1.0.0,>=0.3.9 in /usr/local/lib/python3.12/dist-packages (from langchain) (0.3.9)\n",
            "Requirement already satisfied: langsmith>=0.1.17 in /usr/local/lib/python3.12/dist-packages (from langchain) (0.4.14)\n",
            "Requirement already satisfied: pydantic<3.0.0,>=2.7.4 in /usr/local/lib/python3.12/dist-packages (from langchain) (2.11.7)\n",
            "Requirement already satisfied: SQLAlchemy<3,>=1.4 in /usr/local/lib/python3.12/dist-packages (from langchain) (2.0.43)\n",
            "Requirement already satisfied: requests<3,>=2 in /usr/local/lib/python3.12/dist-packages (from langchain) (2.32.4)\n",
            "Requirement already satisfied: PyYAML>=5.3 in /usr/local/lib/python3.12/dist-packages (from langchain) (6.0.2)\n",
            "Requirement already satisfied: openai<2.0.0,>=1.99.9 in /usr/local/lib/python3.12/dist-packages (from langchain_openai) (1.100.0)\n",
            "Requirement already satisfied: tiktoken<1,>=0.7 in /usr/local/lib/python3.12/dist-packages (from langchain_openai) (0.11.0)\n",
            "Requirement already satisfied: aiohttp<4.0.0,>=3.8.3 in /usr/local/lib/python3.12/dist-packages (from langchain_community) (3.12.15)\n",
            "Requirement already satisfied: tenacity!=8.4.0,<10,>=8.1.0 in /usr/local/lib/python3.12/dist-packages (from langchain_community) (8.5.0)\n",
            "Collecting dataclasses-json<0.7,>=0.5.7 (from langchain_community)\n",
            "  Downloading dataclasses_json-0.6.7-py3-none-any.whl.metadata (25 kB)\n",
            "Requirement already satisfied: pydantic-settings<3.0.0,>=2.4.0 in /usr/local/lib/python3.12/dist-packages (from langchain_community) (2.10.1)\n",
            "Requirement already satisfied: httpx-sse<1.0.0,>=0.4.0 in /usr/local/lib/python3.12/dist-packages (from langchain_community) (0.4.1)\n",
            "Requirement already satisfied: numpy>=1.26.2 in /usr/local/lib/python3.12/dist-packages (from langchain_community) (2.0.2)\n",
            "Requirement already satisfied: aiohappyeyeballs>=2.5.0 in /usr/local/lib/python3.12/dist-packages (from aiohttp<4.0.0,>=3.8.3->langchain_community) (2.6.1)\n",
            "Requirement already satisfied: aiosignal>=1.4.0 in /usr/local/lib/python3.12/dist-packages (from aiohttp<4.0.0,>=3.8.3->langchain_community) (1.4.0)\n",
            "Requirement already satisfied: attrs>=17.3.0 in /usr/local/lib/python3.12/dist-packages (from aiohttp<4.0.0,>=3.8.3->langchain_community) (25.3.0)\n",
            "Requirement already satisfied: frozenlist>=1.1.1 in /usr/local/lib/python3.12/dist-packages (from aiohttp<4.0.0,>=3.8.3->langchain_community) (1.7.0)\n",
            "Requirement already satisfied: multidict<7.0,>=4.5 in /usr/local/lib/python3.12/dist-packages (from aiohttp<4.0.0,>=3.8.3->langchain_community) (6.6.4)\n",
            "Requirement already satisfied: propcache>=0.2.0 in /usr/local/lib/python3.12/dist-packages (from aiohttp<4.0.0,>=3.8.3->langchain_community) (0.3.2)\n",
            "Requirement already satisfied: yarl<2.0,>=1.17.0 in /usr/local/lib/python3.12/dist-packages (from aiohttp<4.0.0,>=3.8.3->langchain_community) (1.20.1)\n",
            "Collecting marshmallow<4.0.0,>=3.18.0 (from dataclasses-json<0.7,>=0.5.7->langchain_community)\n",
            "  Downloading marshmallow-3.26.1-py3-none-any.whl.metadata (7.3 kB)\n",
            "Collecting typing-inspect<1,>=0.4.0 (from dataclasses-json<0.7,>=0.5.7->langchain_community)\n",
            "  Downloading typing_inspect-0.9.0-py3-none-any.whl.metadata (1.5 kB)\n",
            "Requirement already satisfied: jsonpatch<2.0,>=1.33 in /usr/local/lib/python3.12/dist-packages (from langchain-core<1.0.0,>=0.3.72->langchain) (1.33)\n",
            "Requirement already satisfied: typing-extensions>=4.7 in /usr/local/lib/python3.12/dist-packages (from langchain-core<1.0.0,>=0.3.72->langchain) (4.14.1)\n",
            "Requirement already satisfied: packaging>=23.2 in /usr/local/lib/python3.12/dist-packages (from langchain-core<1.0.0,>=0.3.72->langchain) (25.0)\n",
            "Requirement already satisfied: httpx<1,>=0.23.0 in /usr/local/lib/python3.12/dist-packages (from langsmith>=0.1.17->langchain) (0.28.1)\n",
            "Requirement already satisfied: orjson>=3.9.14 in /usr/local/lib/python3.12/dist-packages (from langsmith>=0.1.17->langchain) (3.11.2)\n",
            "Requirement already satisfied: requests-toolbelt>=1.0.0 in /usr/local/lib/python3.12/dist-packages (from langsmith>=0.1.17->langchain) (1.0.0)\n",
            "Requirement already satisfied: zstandard>=0.23.0 in /usr/local/lib/python3.12/dist-packages (from langsmith>=0.1.17->langchain) (0.24.0)\n",
            "Requirement already satisfied: anyio<5,>=3.5.0 in /usr/local/lib/python3.12/dist-packages (from openai<2.0.0,>=1.99.9->langchain_openai) (4.10.0)\n",
            "Requirement already satisfied: distro<2,>=1.7.0 in /usr/local/lib/python3.12/dist-packages (from openai<2.0.0,>=1.99.9->langchain_openai) (1.9.0)\n",
            "Requirement already satisfied: jiter<1,>=0.4.0 in /usr/local/lib/python3.12/dist-packages (from openai<2.0.0,>=1.99.9->langchain_openai) (0.10.0)\n",
            "Requirement already satisfied: sniffio in /usr/local/lib/python3.12/dist-packages (from openai<2.0.0,>=1.99.9->langchain_openai) (1.3.1)\n",
            "Requirement already satisfied: tqdm>4 in /usr/local/lib/python3.12/dist-packages (from openai<2.0.0,>=1.99.9->langchain_openai) (4.67.1)\n",
            "Requirement already satisfied: annotated-types>=0.6.0 in /usr/local/lib/python3.12/dist-packages (from pydantic<3.0.0,>=2.7.4->langchain) (0.7.0)\n",
            "Requirement already satisfied: pydantic-core==2.33.2 in /usr/local/lib/python3.12/dist-packages (from pydantic<3.0.0,>=2.7.4->langchain) (2.33.2)\n",
            "Requirement already satisfied: typing-inspection>=0.4.0 in /usr/local/lib/python3.12/dist-packages (from pydantic<3.0.0,>=2.7.4->langchain) (0.4.1)\n",
            "Requirement already satisfied: charset_normalizer<4,>=2 in /usr/local/lib/python3.12/dist-packages (from requests<3,>=2->langchain) (3.4.3)\n",
            "Requirement already satisfied: idna<4,>=2.5 in /usr/local/lib/python3.12/dist-packages (from requests<3,>=2->langchain) (3.10)\n",
            "Requirement already satisfied: urllib3<3,>=1.21.1 in /usr/local/lib/python3.12/dist-packages (from requests<3,>=2->langchain) (2.5.0)\n",
            "Requirement already satisfied: certifi>=2017.4.17 in /usr/local/lib/python3.12/dist-packages (from requests<3,>=2->langchain) (2025.8.3)\n",
            "Requirement already satisfied: greenlet>=1 in /usr/local/lib/python3.12/dist-packages (from SQLAlchemy<3,>=1.4->langchain) (3.2.4)\n",
            "Requirement already satisfied: regex>=2022.1.18 in /usr/local/lib/python3.12/dist-packages (from tiktoken<1,>=0.7->langchain_openai) (2024.11.6)\n",
            "Requirement already satisfied: httpcore==1.* in /usr/local/lib/python3.12/dist-packages (from httpx<1,>=0.23.0->langsmith>=0.1.17->langchain) (1.0.9)\n",
            "Requirement already satisfied: h11>=0.16 in /usr/local/lib/python3.12/dist-packages (from httpcore==1.*->httpx<1,>=0.23.0->langsmith>=0.1.17->langchain) (0.16.0)\n",
            "Requirement already satisfied: jsonpointer>=1.9 in /usr/local/lib/python3.12/dist-packages (from jsonpatch<2.0,>=1.33->langchain-core<1.0.0,>=0.3.72->langchain) (3.0.0)\n",
            "Collecting mypy-extensions>=0.3.0 (from typing-inspect<1,>=0.4.0->dataclasses-json<0.7,>=0.5.7->langchain_community)\n",
            "  Downloading mypy_extensions-1.1.0-py3-none-any.whl.metadata (1.1 kB)\n",
            "Downloading langchain_openai-0.3.32-py3-none-any.whl (74 kB)\n",
            "\u001b[2K   \u001b[90m━━━━━━━━━━━━━━━━━━━━━━━━━━━━━━━━━━━━━━━━\u001b[0m \u001b[32m74.5/74.5 kB\u001b[0m \u001b[31m5.1 MB/s\u001b[0m eta \u001b[36m0:00:00\u001b[0m\n",
            "\u001b[?25hDownloading langchain_community-0.3.27-py3-none-any.whl (2.5 MB)\n",
            "\u001b[2K   \u001b[90m━━━━━━━━━━━━━━━━━━━━━━━━━━━━━━━━━━━━━━━━\u001b[0m \u001b[32m2.5/2.5 MB\u001b[0m \u001b[31m78.1 MB/s\u001b[0m eta \u001b[36m0:00:00\u001b[0m\n",
            "\u001b[?25hDownloading dataclasses_json-0.6.7-py3-none-any.whl (28 kB)\n",
            "Downloading marshmallow-3.26.1-py3-none-any.whl (50 kB)\n",
            "\u001b[2K   \u001b[90m━━━━━━━━━━━━━━━━━━━━━━━━━━━━━━━━━━━━━━━━\u001b[0m \u001b[32m50.9/50.9 kB\u001b[0m \u001b[31m3.7 MB/s\u001b[0m eta \u001b[36m0:00:00\u001b[0m\n",
            "\u001b[?25hDownloading typing_inspect-0.9.0-py3-none-any.whl (8.8 kB)\n",
            "Downloading mypy_extensions-1.1.0-py3-none-any.whl (5.0 kB)\n",
            "Installing collected packages: mypy-extensions, marshmallow, typing-inspect, dataclasses-json, langchain_openai, langchain_community\n",
            "Successfully installed dataclasses-json-0.6.7 langchain_community-0.3.27 langchain_openai-0.3.32 marshmallow-3.26.1 mypy-extensions-1.1.0 typing-inspect-0.9.0\n"
          ]
        }
      ]
    },
    {
      "cell_type": "code",
      "execution_count": 2,
      "id": "16d04f0f-eaa1-44c9-ba76-7bed3d2d00eb",
      "metadata": {
        "id": "16d04f0f-eaa1-44c9-ba76-7bed3d2d00eb"
      },
      "outputs": [],
      "source": [
        "import os\n",
        "from dotenv import load_dotenv\n",
        "from langchain.chat_models import ChatOpenAI\n",
        "from langchain.prompts import PromptTemplate\n",
        "from langchain.chains import LLMChain, SequentialChain"
      ]
    },
    {
      "cell_type": "code",
      "execution_count": 30,
      "id": "661a7b49-e47d-4533-92cf-b43424949e7e",
      "metadata": {
        "id": "661a7b49-e47d-4533-92cf-b43424949e7e"
      },
      "outputs": [],
      "source": [
        "# Load API Keys\n",
        "load_dotenv()\n",
        "openai_api_key = os.getenv(\"OPENAI_API_KEY\")\n",
        "\n",
        "if not openai_api_key:\n",
        "    raise ValueError(\"Missing OpenAI or Tavily API keys\")"
      ]
    },
    {
      "cell_type": "code",
      "execution_count": 31,
      "id": "3aaf54f4-428f-44e6-88e8-6a59ba905333",
      "metadata": {
        "id": "3aaf54f4-428f-44e6-88e8-6a59ba905333"
      },
      "outputs": [],
      "source": [
        "# Initialize LLM\n",
        "llm = ChatOpenAI(model=\"gpt-3.5-turbo\", temperature=0.7, openai_api_key=openai_api_key)"
      ]
    },
    {
      "cell_type": "markdown",
      "id": "47791ae0-c3a2-4d87-830e-1263110074a0",
      "metadata": {
        "id": "47791ae0-c3a2-4d87-830e-1263110074a0"
      },
      "source": [
        "2. Prompt Templates for each LLMChain Role"
      ]
    },
    {
      "cell_type": "code",
      "execution_count": 32,
      "id": "rlXLYc48iWGu",
      "metadata": {
        "id": "rlXLYc48iWGu"
      },
      "outputs": [],
      "source": [
        "# Destination Researcher\n",
        "destination_prompt = PromptTemplate.from_template(\"\"\"\n",
        "Research comprehensive travel information about {destination}:\n",
        "Include best seasons to visit, safety, etiquette, costs, language, transport options, etc.\n",
        "Travel Dates: {travel_dates}, Budget: {budget}.\n",
        "\"\"\")\n",
        "\n",
        "# Attractions Specialist\n",
        "attractions_prompt = PromptTemplate.from_template(\"\"\"\n",
        "List top attractions and experiences in {destination} for travelers who enjoy {preferences}.\n",
        "Budget: {budget},\n",
        "Trip Duration: {duration_days} days.\n",
        "\"\"\")\n",
        "\n",
        "# Itinerary Planner\n",
        "itinerary_prompt = PromptTemplate.from_template(\"\"\"\n",
        "Created a detailed {duration_days}-day travel itinerary for {destination} starting {travel_dates}.\n",
        "Make sure the itinerary reflects preferences like: {preferences}, and fits within a {budget} Budget.\n",
        "\"\"\")\n",
        "\n",
        "# Local Guide\n",
        "guide_prompt = PromptTemplate.from_template(\"\"\"\n",
        "Provide local tips, cultural insights, and safety advice for visiting {destination}.\n",
        "Tailor to interests: {preferences}.\n",
        "Budget level: {budget}.\n",
        "\"\"\")\n"
      ]
    },
    {
      "cell_type": "markdown",
      "id": "f4af9c33-472e-4adf-a965-fd186a9c69c8",
      "metadata": {
        "id": "f4af9c33-472e-4adf-a965-fd186a9c69c8"
      },
      "source": [
        "3. Define LLMChain for each Role"
      ]
    },
    {
      "cell_type": "code",
      "execution_count": 33,
      "id": "0fe1d7ca-c264-41ca-a836-0f26a46a0a0f",
      "metadata": {
        "id": "0fe1d7ca-c264-41ca-a836-0f26a46a0a0f"
      },
      "outputs": [],
      "source": [
        "destination_chain = LLMChain(llm=llm, prompt=destination_prompt, output_key=\"destination_report\")\n",
        "attractions_chain = LLMChain(llm=llm, prompt=attractions_prompt, output_key=\"attractions\")\n",
        "itinerary_chain = LLMChain(llm=llm, prompt=itinerary_prompt, output_key=\"itinerary\")\n",
        "guide_chain = LLMChain(llm=llm, prompt=guide_prompt, output_key=\"guide\")"
      ]
    },
    {
      "cell_type": "markdown",
      "id": "865b9d8f-f845-4f4b-b86d-fa1465574a66",
      "metadata": {
        "id": "865b9d8f-f845-4f4b-b86d-fa1465574a66"
      },
      "source": [
        "4. Take Input from User"
      ]
    },
    {
      "cell_type": "code",
      "execution_count": 34,
      "id": "659e43f8-8f73-499a-a2d3-0a405d241055",
      "metadata": {
        "id": "659e43f8-8f73-499a-a2d3-0a405d241055",
        "colab": {
          "base_uri": "https://localhost:8080/"
        },
        "outputId": "f1c0764e-61f0-495a-e1a3-03e156f1bbb1"
      },
      "outputs": [
        {
          "name": "stdout",
          "output_type": "stream",
          "text": [
            "Destination: chicago\n",
            "Travel Dates (default June 1, 2023): 3\n",
            "Duration (default 3): \n",
            "Preferences (default: Cultural & Museums, Food & Culinary): \n",
            "Budget (default: moderate): \n"
          ]
        }
      ],
      "source": [
        "destination = input(\"Destination: \")\n",
        "travel_dates = input(\"Travel Dates (default June 1, 2023): \") or \"June 1, 2023\"\n",
        "duration_days = int(input(\"Duration (default 3): \") or \"3\")\n",
        "preferences = input(\"Preferences (default: Cultural & Museums, Food & Culinary): \") or \"Cultural & Museums, Food & Culinary\"\n",
        "budget = input(\"Budget (default: moderate): \") or \"moderate\"\n",
        "\n",
        "input_variables = {\n",
        "    \"destination\": destination,\n",
        "    \"travel_dates\": travel_dates,\n",
        "    \"duration_days\": duration_days,\n",
        "    \"preferences\": preferences,\n",
        "    \"budget\": budget\n",
        "}"
      ]
    },
    {
      "cell_type": "markdown",
      "id": "2aec8b66-f14a-4aa0-a2d3-9bb6d0ffabaf",
      "metadata": {
        "id": "2aec8b66-f14a-4aa0-a2d3-9bb6d0ffabaf"
      },
      "source": [
        "5. Use SequentialChain to Run All Chains in Order"
      ]
    },
    {
      "cell_type": "code",
      "execution_count": 37,
      "id": "d584157a-f171-4e5e-8cfe-0883295ebf7d",
      "metadata": {
        "id": "d584157a-f171-4e5e-8cfe-0883295ebf7d",
        "colab": {
          "base_uri": "https://localhost:8080/"
        },
        "outputId": "77900542-164b-4726-fbde-3acf1c2bd794"
      },
      "outputs": [
        {
          "output_type": "stream",
          "name": "stdout",
          "text": [
            "\n",
            "\n",
            "\u001b[1m> Entering new SequentialChain chain...\u001b[0m\n",
            "\n",
            "\u001b[1m> Finished chain.\u001b[0m\n"
          ]
        }
      ],
      "source": [
        "travel_chain = SequentialChain(\n",
        "    chains = [destination_chain, attractions_chain, itinerary_chain, guide_chain],\n",
        "    input_variables=[\"destination\", \"travel_dates\", \"duration_days\", \"preferences\", \"budget\"],\n",
        "    output_variables=[\"destination_report\", \"attractions\", \"itinerary\", \"guide\"],\n",
        "    verbose=True\n",
        ")\n",
        "\n",
        "# Run the LLMChain-based agentic system\n",
        "results = travel_chain.invoke(input_variables)"
      ]
    },
    {
      "cell_type": "markdown",
      "id": "974c3053-c4d6-4105-923a-39d7942400e6",
      "metadata": {
        "id": "974c3053-c4d6-4105-923a-39d7942400e6"
      },
      "source": [
        "6. Print the Final Travel Plan Output"
      ]
    },
    {
      "cell_type": "code",
      "execution_count": 38,
      "id": "23359874-fb2a-4e98-aab1-ed08c6886d93",
      "metadata": {
        "id": "23359874-fb2a-4e98-aab1-ed08c6886d93",
        "colab": {
          "base_uri": "https://localhost:8080/"
        },
        "outputId": "e1fb75be-dc7c-4d97-dfbb-0f4cee9f71c9"
      },
      "outputs": [
        {
          "output_type": "stream",
          "name": "stdout",
          "text": [
            "\n",
            "--- Travel Plan ---\n",
            "Destination Overview:\n",
            " Best Seasons to Visit:\n",
            "The best seasons to visit Chicago are in the spring (April to June) and fall (September to October) when the weather is mild and the city is alive with outdoor events and activities. Summer (July to August) is also a popular time to visit, but it can be hot and humid. Winter (December to February) can be cold and snowy, but the city is still bustling with holiday events.\n",
            "\n",
            "Safety:\n",
            "Chicago, like any major city, has its share of crime, but as a tourist, you can stay safe by being aware of your surroundings, avoiding high-crime areas, and using common sense. Stick to well-lit, populated areas, especially at night, and keep your belongings secure.\n",
            "\n",
            "Etiquette:\n",
            "In Chicago, it is important to be polite and respectful to others. When dining out, it is customary to leave a 15-20% tip for good service. It is also polite to say \"please\" and \"thank you\" when interacting with locals.\n",
            "\n",
            "Costs:\n",
            "Chicago can be an expensive city to visit, but there are plenty of budget-friendly options available. Look for deals on accommodations, dining, and attractions, and consider using public transportation to save on costs.\n",
            "\n",
            "Language:\n",
            "English is the primary language spoken in Chicago, but you may also hear Spanish, Polish, and other languages spoken in certain neighborhoods.\n",
            "\n",
            "Transport Options:\n",
            "Chicago has a comprehensive public transportation system, including buses and trains, that can easily get you around the city. You can also use rideshare services like Uber and Lyft, or rent a bike to explore the city on two wheels. If you prefer to drive, be prepared for traffic and limited parking options in the downtown area.\n",
            "\n",
            "Overall, Chicago is a vibrant and diverse city with something for everyone. With a moderate budget, you can enjoy all that the city has to offer, from world-class museums and theaters to delicious dining options and stunning architecture. Just be sure to plan ahead, stay safe, and enjoy your trip to the Windy City!\n",
            "\n",
            " Attractions:\n",
            " 1. Art Institute of Chicago - Explore one of the oldest and largest art museums in the United States, featuring an impressive collection of Impressionist, Post-Impressionist, and American art.\n",
            "\n",
            "2. Millennium Park - Visit this iconic public park to see the famous Cloud Gate sculpture, also known as \"The Bean,\" and enjoy free outdoor concerts and events.\n",
            "\n",
            "3. Chicago Cultural Center - Discover the city's cultural heritage through art exhibitions, performances, and events at this historic building.\n",
            "\n",
            "4. Chicago Architecture River Cruise - Take a boat tour along the Chicago River to learn about the city's famous architecture and skyline.\n",
            "\n",
            "5. Chinatown - Indulge in authentic Chinese cuisine and explore the vibrant culture and shops in Chicago's Chinatown neighborhood.\n",
            "\n",
            "6. Garfield Park Conservatory - Escape the city and immerse yourself in nature at this expansive botanical garden featuring lush plant collections.\n",
            "\n",
            "7. Greektown - Enjoy traditional Greek dishes and explore the lively atmosphere of this vibrant neighborhood known for its delicious food and cultural events.\n",
            "\n",
            "8. Field Museum - Learn about natural history, anthropology, and culture through interactive exhibits and artifacts at this renowned museum.\n",
            "\n",
            "9. Chicago Food Tour - Join a guided food tour to sample various culinary delights from the city's diverse neighborhoods, including deep-dish pizza, hot dogs, and ethnic cuisines.\n",
            "\n",
            "10. National Museum of Mexican Art - Explore Mexican art and culture through a diverse collection of paintings, sculptures, and textiles at this free museum in the Pilsen neighborhood.\n",
            "\n",
            " Itinerary:\n",
            " Day 1:\n",
            "- Morning: Start your day with a visit to the Art Institute of Chicago, one of the oldest and largest art museums in the United States. Explore the diverse collection of artwork spanning centuries and cultures.\n",
            "- Lunch: Head to Chicago's famous deep-dish pizza joint, Giordano's, for a delicious and filling lunch.\n",
            "- Afternoon: Take a stroll down the Magnificent Mile, a renowned shopping district in downtown Chicago. Browse through upscale shops, boutiques, and department stores.\n",
            "- Evening: Enjoy a dinner at the Chicago French Market, where you can sample a variety of gourmet foods from different vendors. End the night with a visit to the Navy Pier for stunning views of the city skyline.\n",
            "\n",
            "Day 2:\n",
            "- Morning: Start your day with a visit to the Museum of Science and Industry, one of the largest science museums in the world. Explore interactive exhibits on topics ranging from space exploration to transportation.\n",
            "- Lunch: Grab a bite to eat at Portillo's, a Chicago institution known for its hot dogs and Italian beef sandwiches.\n",
            "- Afternoon: Visit the Chicago Cultural Center, a historic landmark that hosts free art exhibitions, performances, and events. Don't miss the stunning Tiffany glass dome.\n",
            "- Evening: Indulge in a food tour of Chicago's diverse neighborhoods, sampling local favorites like Chicago-style hot dogs, Italian beef, and Garrett Popcorn.\n",
            "\n",
            "Day 3:\n",
            "- Morning: Explore the vibrant neighborhood of Pilsen, known for its colorful murals, art galleries, and Mexican cuisine. Visit the National Museum of Mexican Art to learn about Mexican culture and history.\n",
            "- Lunch: Enjoy a traditional Mexican meal at Nuevo Leon Restaurant, a local favorite known for its authentic dishes.\n",
            "- Afternoon: Take a walk through Millennium Park, home to iconic attractions like the Cloud Gate sculpture (also known as \"The Bean\") and the Jay Pritzker Pavilion.\n",
            "- Evening: End your trip with a dinner at The Purple Pig, a popular restaurant offering Mediterranean-inspired small plates. Don't forget to try their signature dishes like the milk-braised pork shoulder.\n",
            "\n",
            " Local Guide:\n",
            " Local Tips:\n",
            "1. Make sure to check out the free admission days at museums such as the Art Institute of Chicago and the Museum of Contemporary Art.\n",
            "2. Take advantage of Chicago's public transportation system, which is affordable and easy to use. Consider getting a Ventra card for unlimited rides on buses and trains.\n",
            "3. Look for food festivals and neighborhood street fairs, which often showcase the city's diverse culinary scene and cultural offerings.\n",
            "\n",
            "Cultural Insights:\n",
            "1. Chicago is known for its vibrant arts scene, with numerous theaters, galleries, and music venues to explore. Don't miss a show at the iconic Second City comedy club or a performance at the Chicago Symphony Orchestra.\n",
            "2. The city's museums are world-class, covering a range of topics from art and history to science and industry. Be sure to visit the Field Museum, the Museum of Science and Industry, and the National Museum of Mexican Art.\n",
            "\n",
            "Food & Culinary:\n",
            "1. Chicago is a food lover's paradise, with a wide range of culinary options to suit every taste and budget. Don't miss trying classic Chicago-style deep dish pizza, Italian beef sandwiches, and hot dogs.\n",
            "2. Explore the city's diverse neighborhoods to sample authentic cuisine from around the world. Head to Chinatown for dim sum, Little Italy for pasta, and Pilsen for traditional Mexican fare.\n",
            "\n",
            "Safety Advice:\n",
            "1. Like any big city, it's important to stay aware of your surroundings and keep your belongings secure. Avoid flashing expensive items and be cautious in busy tourist areas.\n",
            "2. Stick to well-lit and populated areas, especially at night. Consider taking a taxi or rideshare service if you're out late.\n",
            "3. Be mindful of weather conditions, especially in the winter when snow and ice can create slippery sidewalks. Dress warmly and wear sturdy shoes to prevent falls.\n"
          ]
        }
      ],
      "source": [
        "print(\"\\n--- Travel Plan ---\")\n",
        "print(\"Destination Overview:\\n\", results[\"destination_report\"])\n",
        "print(\"\\n Attractions:\\n\", results[\"attractions\"])\n",
        "print(\"\\n Itinerary:\\n\", results[\"itinerary\"])\n",
        "print(\"\\n Local Guide:\\n\", results[\"guide\"])"
      ]
    },
    {
      "cell_type": "markdown",
      "id": "782ba110-f90c-491d-80e8-7a4c16e8d280",
      "metadata": {
        "id": "782ba110-f90c-491d-80e8-7a4c16e8d280"
      },
      "source": [
        "Supervisor with tools Architecture - A supervisor agent uses a tool-calling agent to decide which tool to use."
      ]
    }
  ],
  "metadata": {
    "colab": {
      "provenance": []
    },
    "kernelspec": {
      "display_name": "Python 3 (ipykernel)",
      "language": "python",
      "name": "python3"
    },
    "language_info": {
      "codemirror_mode": {
        "name": "ipython",
        "version": 3
      },
      "file_extension": ".py",
      "mimetype": "text/x-python",
      "name": "python",
      "nbconvert_exporter": "python",
      "pygments_lexer": "ipython3",
      "version": "3.13.5"
    }
  },
  "nbformat": 4,
  "nbformat_minor": 5
}