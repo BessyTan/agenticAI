{
 "cells": [
  {
   "cell_type": "markdown",
   "id": "0509b482-75b3-4a1d-995e-09aaaab88752",
   "metadata": {
    "id": "0509b482-75b3-4a1d-995e-09aaaab88752"
   },
   "source": [
    "## Travel Planning Agentic System using LLMchain"
   ]
  },
  {
   "cell_type": "markdown",
   "id": "e68979ef-3f1c-4f12-a42e-88f906affb59",
   "metadata": {
    "id": "e68979ef-3f1c-4f12-a42e-88f906affb59"
   },
   "source": [
    "### This project is an enhanced Travel Planning Agentic System using CrewAI by adding \"real_time flight search\" and \"hotel search\" agents."
   ]
  },
  {
   "cell_type": "markdown",
   "id": "4bbae12f-9724-4d83-a023-35380597fee0",
   "metadata": {
    "id": "4bbae12f-9724-4d83-a023-35380597fee0"
   },
   "source": [
    "1.Install dependencies"
   ]
  },
  {
   "cell_type": "code",
   "execution_count": null,
   "id": "b054d9fa-06c4-4fcc-8355-11e744face5c",
   "metadata": {},
   "outputs": [],
   "source": [
    "!pip install crewai langchain langchain-openai langchain-community python-dotenv serpapi"
   ]
  },
  {
   "cell_type": "markdown",
   "id": "90048ce7-7166-40ef-bd5c-a8cabe4590dc",
   "metadata": {},
   "source": [
    "2. Imports & Environment Setup"
   ]
  },
  {
   "cell_type": "code",
   "execution_count": null,
   "id": "16d04f0f-eaa1-44c9-ba76-7bed3d2d00eb",
   "metadata": {
    "id": "16d04f0f-eaa1-44c9-ba76-7bed3d2d00eb"
   },
   "outputs": [],
   "source": [
    "import os\n",
    "from dotenv import load_dotenv\n",
    "from langchain_openai import ChatOpenAI\n",
    "from crewai import Agent, Task, Crew, Process\n",
    "from crewai.tools import tool\n",
    "from langchain_community.tools.tavily_search import TavilySearchResults\n",
    "from serpapi import GoogleSearch"
   ]
  },
  {
   "cell_type": "code",
   "execution_count": null,
   "id": "661a7b49-e47d-4533-92cf-b43424949e7e",
   "metadata": {
    "id": "661a7b49-e47d-4533-92cf-b43424949e7e"
   },
   "outputs": [],
   "source": [
    "# Load API Keys\n",
    "load_dotenv()\n",
    "openai_api_key = os.getenv(\"OPENAI_API_KEY\")\n",
    "tavily_api_key = os.getenv(\"TAVILY_API_KEY\")\n",
    "serpapi_api_key = os.getenv(\"SERPAPI_API_KEY\")\n",
    "\n",
    "if not (openain_api_key and tavily_api_key and serpapi_api_key):\n",
    "    raise ValueError(\"Please set OPENAI_API_KEY, TAVILY_API_KEY, and SERPAPI_API_KEY in .env\")"
   ]
  },
  {
   "cell_type": "markdown",
   "id": "6c818a26-43e7-406b-beec-e810edf3f375",
   "metadata": {},
   "source": [
    "3. Initialize LLM"
   ]
  },
  {
   "cell_type": "code",
   "execution_count": null,
   "id": "3aaf54f4-428f-44e6-88e8-6a59ba905333",
   "metadata": {
    "id": "3aaf54f4-428f-44e6-88e8-6a59ba905333"
   },
   "outputs": [],
   "source": [
    "# Initialize LLM\n",
    "llm = ChatOpenAI(model=\"gpt-4o\", temperature=0.7, openai_api_key=openai_api_key)"
   ]
  },
  {
   "cell_type": "markdown",
   "id": "513702ce-dea2-450e-8fd1-88cbcd523d34",
   "metadata": {},
   "source": [
    "4. Define Web Search Tool (Tavily)"
   ]
  },
  {
   "cell_type": "code",
   "execution_count": null,
   "id": "7c5fc7f6-3b17-448b-885e-1e3d210e97a2",
   "metadata": {},
   "outputs": [],
   "source": [
    "# Define Web Search Tool (Tavily)\n",
    "search = TavilySearchResults(api_key=tavily_api_key, max_results=5)\n",
    "\n",
    "@tool(\"Web Search\")\n",
    "def search_web(query: str) -> str:\n",
    "    results = search.invoke(query)\n",
    "    return \"\\n\\n\".join(\n",
    "        f\"Source: {r.get('url')}\\nTitle: {r.get('title')}\\nContent: {r.get('content')}\"\n",
    "        for r in results\n",
    "    )"
   ]
  },
  {
   "cell_type": "markdown",
   "id": "86a3ec45-d716-4a6c-abef-473295177e21",
   "metadata": {},
   "source": [
    "5. Define Flight Search Tool (SerpAPI)"
   ]
  },
  {
   "cell_type": "code",
   "execution_count": null,
   "id": "254b6578-ee2e-4198-ad29-c781db98fc08",
   "metadata": {},
   "outputs": [],
   "source": [
    "@tool(\"Flight Search\")\n",
    "def search_flights(query: str) -> str:\n",
    "    \"\"\"Search real-time flights using SerpAPI.\"\"\"\n",
    "    params = {\n",
    "        \"engine\": \"google_flights\",\n",
    "        \"q\": query,\n",
    "        \"api_key\": serpapi_api_key,\n",
    "        \"hl\": \"en\"\n",
    "    }\n",
    "    search = GoogleSearch(params)\n",
    "    results = search.get_dict()\n",
    "\n",
    "    flights = results.get(\"flight_results\", [])\n",
    "    if not flights:\n",
    "        return \"No flights found.\"\n",
    "\n",
    "    # Summarize top 3 flights\n",
    "    summaries = []\n",
    "    for flight in flights[:3]:\n",
    "        summary = (\n",
    "            f\"Airline: {flight.get('airline', 'N/A')}, \"\n",
    "            f\"From\": {flight.get('origin', 'N/A')} To: {flight.get('destination', 'N/A')},\n",
    "            f\"Departure: {flight.get('departure_time', 'N/A)}, \"\n",
    "            f\"Arrival: {flight.get('arrival_time', 'N/A')}, \"\n",
    "            f\"Price: {flight.get('price', 'N/A')}\"\n",
    "        )\n",
    "        summaries.append(summary)\n",
    "    return \"\\n\\n\".join(summaries)"
   ]
  },
  {
   "cell_type": "markdown",
   "id": "0dad0688-0b10-4bc1-9013-09787b9cf9d1",
   "metadata": {},
   "source": [
    "6. Define Hotel Search Tools (SerpAPI)"
   ]
  },
  {
   "cell_type": "code",
   "execution_count": null,
   "id": "7e747179-bfb1-44d0-be04-3fa6545c625a",
   "metadata": {},
   "outputs": [],
   "source": [
    "@tool(\"Hotel Search\")\n",
    "def search_hotels(query: str) -> str:\n",
    "    \"\"\"Search real-time hotels using SerpAPI.\"\"\"\n",
    "    params = {\n",
    "        \"engine\": \"google_hotels\",\n",
    "        \"q\": query,\n",
    "        \"api_key\": serpapi_api_key,\n",
    "        \"hl\": \"en\"\n",
    "    }\n",
    "    search = GoogleSearch(params)\n",
    "    results = search.get_dict()\n",
    "\n",
    "    hotels = results.get(\"hotel_results\", [])\n",
    "    if not hotels:\n",
    "        return \"No hotels found.\"\n",
    "\n",
    "    # Summarize top 3 hotels\n",
    "    summaries = []\n",
    "    for hotel in hotels[:3]:\n",
    "        summary = (\n",
    "            f\"Hotel: {hotel.get('title', 'N/A')}, \"\n",
    "            f\"Rating: {hotel.get('rating', 'N/A')}, \"\n",
    "            f\"Price: {hotel.get('price', 'N/A')}, \"\n",
    "            f\"Address: {hotel.get('address', 'N/A')}, \"\n",
    "        )\n",
    "        summaries.append(summary)\n",
    "    return \"\\n\\n\".join(summaries)"
   ]
  },
  {
   "cell_type": "markdown",
   "id": "2a784d0b-4d6b-4962-ba9f-83178c25c826",
   "metadata": {},
   "source": [
    "7. Define Agents"
   ]
  },
  {
   "cell_type": "code",
   "execution_count": null,
   "id": "1e9132b4-68c5-4aaf-a26d-c1ecd4251698",
   "metadata": {},
   "outputs": [],
   "source": [
    "# Destination Researcher\n",
    "destination_researcher = Agent(\n",
    "    role=\"Destination Researcher\",\n",
    "    goal=\"Gather essential info about the destination including safety, seasons, and culture.\",\n",
    "    backstory=\"Expert travel researcher with knowledge of global destinations.\",\n",
    "    tools=[search_web],\n",
    "    llm=llm,\n",
    "    memory=True,\n",
    "    verbose=True\n",
    ")\n",
    "\n",
    "# Attractions Specialist\n",
    "attractions_specialist = Agent(\n",
    "    role=\"Attractions Specialist\",\n",
    "    goal=\"Identify best attractions and activities based on user preferences.\",\n",
    "    backstory=\"Local expert finding the best unique travel experiences.\",\n",
    "    tools=[search_web],\n",
    "    llm=llm,\n",
    "    memory=True,\n",
    "    verbose=True\n",
    ")\n",
    "\n",
    "# Flight Search Agent\n",
    "flight_search_agent = Agent(\n",
    "    role=\"Flight Search Agent\",\n",
    "    goal=\"Find best real-time flights for the trip.\",\n",
    "    backstory=\"Expert in flight deals and real-time flight data.\",\n",
    "    tools=[search_flights],\n",
    "    llm=llm,\n",
    "    memory=True,\n",
    "    verbose=True\n",
    ")\n",
    "\n",
    "# Hotel Search Agent\n",
    "hotel_search_agent = Agent(\n",
    "    role=\"Hotel Search Agent\",\n",
    "    goal=\"Find best hotels and accommodation options matching budget and preferences.\",\n",
    "    backstory=\"Hotel expert familiar with booking trends and deals.\",\n",
    "    tools=[search_hotels],\n",
    "    llm=llm,\n",
    "    memory=True,\n",
    "    verbose=True\n",
    ")\n",
    "\n",
    "# Itinerary Planner\n",
    "itinerary_planner = Agent(\n",
    "    role=\"Itinerary Planner\",\n",
    "    goal=\"Create detailed day-by-day itinerary based on all research.\",\n",
    "    backstory=\"Experienced planner balancing activities, logistics, and rest.\",\n",
    "    tools=[],\n",
    "    llm=llm,\n",
    "    memory=True,\n",
    "    verbose=True\n",
    ")\n",
    "\n",
    "# Local Guide\n",
    "local_guide = Agent(\n",
    "    role=\"Local Guide\",\n",
    "    goal=\"Provide practical local tips, culture, and safety advice.\",\n",
    "    backstory=\"Street-smart local with cultural wisdom.\",\n",
    "    tools=[search_web],\n",
    "    llm=llm,\n",
    "    memory=True,\n",
    "    verbose=True\n",
    ")\n",
    "\n",
    "# Manager\n",
    "manager = Agent(\n",
    "    role=\"Travel Project Manager\",\n",
    "    goal=\"Coordinate all agents to deliver an optimal travel plan.\",\n",
    "    backstory=\"Experienced coordinator managing task flow.\",\n",
    "    llm=llm,\n",
    "    memory=True,\n",
    "    verbose=True\n",
    ")"
   ]
  },
  {
   "cell_type": "markdown",
   "id": "a68aa76d-f4d3-4309-8de3-b00ddeb92d8c",
   "metadata": {},
   "source": [
    "8. Define Tasks to Assign"
   ]
  },
  {
   "cell_type": "code",
   "execution_count": null,
   "id": "b473750e-7e94-4209-a325-18b151ad3410",
   "metadata": {},
   "outputs": [],
   "source": [
    "def create_tasks(destination, travel_dates, duration_days, preferences, budget):\n",
    "    return [\n",
    "        Task(\n",
    "            description=f\"Research {destination} for traveler going on {travel_dates}. Include climate, safety, transport, and culture.\",\n",
    "            agent=destination_researcher,\n",
    "            expected_output=\"Destination research report.\"\n",
    "        ),\n",
    "        Task(\n",
    "            description=f\"Identify top attractions in {destination} based on preferences: {preferences}.\",\n",
    "            agent=attractions_specialist,\n",
    "            expected_output=\"List of attractions with details.\"\n",
    "        ),\n",
    "        Task(\n",
    "            description=f\"Search for best flights to {destination} for travele dates {travel_dates}.\",\n",
    "            agent=flight_search_agent,\n",
    "            expected_output=\"Flight options summary.\"\n",
    "        ),\n",
    "        Task(\n",
    "            description=f\"Search for best hotels in {destination} matching budget {budget}.\",\n",
    "            agent=hotel_search_agent,\n",
    "            expected_output=\"Hotel options summary.\"\n",
    "        ),\n",
    "        Task(\n",
    "            description=f\"Create a day-by-day itinerrary for a {duration_days}-day trip to {destination} based on all previous outputs.\",\n",
    "            agent=itinerary_planner,\n",
    "            expected_output=\"Daily itinerary plan.\"\n",
    "        ),\n",
    "        Task(\n",
    "            description=f\"Provide local tips and cultural advice for {destination}.\",\n",
    "            agent=local_guide,\n",
    "            expected_output=\"Local guide report.\"\n",
    "        )\n",
    "    ]"
   ]
  },
  {
   "cell_type": "markdown",
   "id": "865b9d8f-f845-4f4b-b86d-fa1465574a66",
   "metadata": {
    "id": "865b9d8f-f845-4f4b-b86d-fa1465574a66"
   },
   "source": [
    "9. User Input & Kickoff"
   ]
  },
  {
   "cell_type": "code",
   "execution_count": null,
   "id": "659e43f8-8f73-499a-a2d3-0a405d241055",
   "metadata": {
    "id": "659e43f8-8f73-499a-a2d3-0a405d241055"
   },
   "outputs": [],
   "source": [
    "destination = input(\"Destination: \")\n",
    "travel_dates = input(\"Travel dates (default June 1, 2023): \") or \"June 1, 2023\"\n",
    "duration_days = int(input(\"Trip duration in days (default 3): \") or \"3\")\n",
    "preferences = input(\"Preferences (e.g., Food & Culture): \") or \"Cultural & Museums, Food & Culinary): \") or \"Cultural & Museums, Food & Culinary\"\n",
    "budget = input(\"Budget level (budget/moderate/luxury): \") or \"moderate\"\n",
    "\n",
    "tasks = create_tasks(destination, travel_dates, duration_days, preferences, budget)\n",
    "\n",
    "travel_crew = Crew{\n",
    "    agents=[\n",
    "        destination_researcher,\n",
    "        attractions_specialist,\n",
    "        flight_search_agent,\n",
    "        hotel_search_agent,\n",
    "        itinerary_planner,\n",
    "        local_guide\n",
    "    ],\n",
    "    task=tasks,\n",
    "    verbose=True,\n",
    "    manager_agent=manager,\n",
    "    process=Process.hierarchical # or Process.autonomous for full autonomy \n",
    ")\n",
    "\n",
    "results = travel_crew.kickoff()"
   ]
  },
  {
   "cell_type": "markdown",
   "id": "52ee0474-ecec-4438-84d5-ecfc4108b742",
   "metadata": {},
   "source": [
    "10. Review results"
   ]
  },
  {
   "cell_type": "code",
   "execution_count": null,
   "id": "162ab329-96dc-4ada-80c1-70aa768888e0",
   "metadata": {},
   "outputs": [],
   "source": [
    "for task_result in results:\n",
    "    print(f\"\\nTask: {task_result.task.description}\")\n",
    "    print(f\"Output:\\n{task_result.output}\")"
   ]
  },
  {
   "cell_type": "markdown",
   "id": "782ba110-f90c-491d-80e8-7a4c16e8d280",
   "metadata": {
    "id": "782ba110-f90c-491d-80e8-7a4c16e8d280"
   },
   "source": [
    "#### Added Flight Search Agent and Hotel Search Agent powered by SerpAPI\n",
    "#### Coordinated using CrewAI"
   ]
  }
 ],
 "metadata": {
  "colab": {
   "provenance": []
  },
  "kernelspec": {
   "display_name": "Python 3 (ipykernel)",
   "language": "python",
   "name": "python3"
  },
  "language_info": {
   "codemirror_mode": {
    "name": "ipython",
    "version": 3
   },
   "file_extension": ".py",
   "mimetype": "text/x-python",
   "name": "python",
   "nbconvert_exporter": "python",
   "pygments_lexer": "ipython3",
   "version": "3.13.5"
  }
 },
 "nbformat": 4,
 "nbformat_minor": 5
}
